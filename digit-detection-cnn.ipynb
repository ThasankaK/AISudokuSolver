{
 "cells": [
  {
   "cell_type": "code",
   "execution_count": 1,
   "id": "e387479e",
   "metadata": {
    "_cell_guid": "b1076dfc-b9ad-4769-8c92-a6c4dae69d19",
    "_uuid": "8f2839f25d086af736a60e9eeb907d3b93b6e0e5",
    "execution": {
     "iopub.execute_input": "2024-08-20T05:02:13.372036Z",
     "iopub.status.busy": "2024-08-20T05:02:13.371298Z",
     "iopub.status.idle": "2024-08-20T05:02:18.616193Z",
     "shell.execute_reply": "2024-08-20T05:02:18.615179Z"
    },
    "papermill": {
     "duration": 5.252393,
     "end_time": "2024-08-20T05:02:18.618619",
     "exception": false,
     "start_time": "2024-08-20T05:02:13.366226",
     "status": "completed"
    },
    "tags": []
   },
   "outputs": [],
   "source": [
    "# This Python 3 environment comes with many helpful analytics libraries installed\n",
    "# It is defined by the kaggle/python Docker image: https://github.com/kaggle/docker-python\n",
    "# For example, here's several helpful packages to load\n",
    "\n",
    "import numpy as np # linear algebra\n",
    "import pandas as pd # data processing, CSV file I/O (e.g. pd.read_csv)\n",
    "\n",
    "# Input data files are available in the read-only \"../input/\" directory\n",
    "# For example, running this (by clicking run or pressing Shift+Enter) will list all files under the input directory\n",
    "\n",
    "import os\n",
    "for dirname, _, filenames in os.walk('/kaggle/input'):\n",
    "    for filename in filenames:\n",
    "        continue\n",
    "# /kaggle/input/digits/digits_jpeg/digits_jpeg/7/img008-00044.jpeg\n",
    "# /kaggle/input/digits/digits_jpeg/digits_jpeg/7/img008-00671.jpeg\n",
    "# You can write up to 20GB to the current directory (/kaggle/working/) that gets preserved as output when you create a version using \"Save & Run All\" \n",
    "# You can also write temporary files to /kaggle/temp/, but they won't be saved outside of the current session"
   ]
  },
  {
   "cell_type": "code",
   "execution_count": 2,
   "id": "77d312ea",
   "metadata": {
    "execution": {
     "iopub.execute_input": "2024-08-20T05:02:18.628181Z",
     "iopub.status.busy": "2024-08-20T05:02:18.627395Z",
     "iopub.status.idle": "2024-08-20T05:02:31.095813Z",
     "shell.execute_reply": "2024-08-20T05:02:31.094809Z"
    },
    "papermill": {
     "duration": 12.475716,
     "end_time": "2024-08-20T05:02:31.098377",
     "exception": false,
     "start_time": "2024-08-20T05:02:18.622661",
     "status": "completed"
    },
    "tags": []
   },
   "outputs": [
    {
     "name": "stderr",
     "output_type": "stream",
     "text": [
      "2024-08-20 05:02:21.526807: E external/local_xla/xla/stream_executor/cuda/cuda_dnn.cc:9261] Unable to register cuDNN factory: Attempting to register factory for plugin cuDNN when one has already been registered\n",
      "2024-08-20 05:02:21.526909: E external/local_xla/xla/stream_executor/cuda/cuda_fft.cc:607] Unable to register cuFFT factory: Attempting to register factory for plugin cuFFT when one has already been registered\n",
      "2024-08-20 05:02:21.658194: E external/local_xla/xla/stream_executor/cuda/cuda_blas.cc:1515] Unable to register cuBLAS factory: Attempting to register factory for plugin cuBLAS when one has already been registered\n"
     ]
    }
   ],
   "source": [
    "import cv2\n",
    "from sklearn.model_selection import train_test_split \n",
    "from tensorflow.keras.preprocessing.image import ImageDataGenerator\n",
    "from keras.utils import to_categorical\n",
    "from keras.models import Sequential\n",
    "from keras.layers import Dropout, Flatten, Dense, Conv2D, MaxPooling2D\n",
    "from keras.optimizers import Adam\n",
    "import warnings\n",
    "warnings.filterwarnings(\"ignore\", category=UserWarning)\n",
    "\n",
    "# Disable GPU\n",
    "os.environ[\"CUDA_VISIBLE_DEVICES\"] = \"-1\"\n"
   ]
  },
  {
   "cell_type": "markdown",
   "id": "3c3cd332",
   "metadata": {
    "papermill": {
     "duration": 0.003298,
     "end_time": "2024-08-20T05:02:31.105294",
     "exception": false,
     "start_time": "2024-08-20T05:02:31.101996",
     "status": "completed"
    },
    "tags": []
   },
   "source": [
    "# Data Preparation"
   ]
  },
  {
   "cell_type": "code",
   "execution_count": 3,
   "id": "13e5fbf6",
   "metadata": {
    "execution": {
     "iopub.execute_input": "2024-08-20T05:02:31.114129Z",
     "iopub.status.busy": "2024-08-20T05:02:31.113036Z",
     "iopub.status.idle": "2024-08-20T05:02:59.317673Z",
     "shell.execute_reply": "2024-08-20T05:02:59.316728Z"
    },
    "papermill": {
     "duration": 28.211243,
     "end_time": "2024-08-20T05:02:59.319813",
     "exception": false,
     "start_time": "2024-08-20T05:02:31.108570",
     "status": "completed"
    },
    "tags": []
   },
   "outputs": [
    {
     "name": "stdout",
     "output_type": "stream",
     "text": [
      "Extracting Data from Label #'s: 0 1 2 3 4 5 6 7 8 9  \n"
     ]
    }
   ],
   "source": [
    "images = []\n",
    "labelNum = [] # list with labels of images\n",
    "\n",
    "print(\"Extracting Data from Label #'s:\", end=\" \")\n",
    "for num in range(10):\n",
    "    picList = os.listdir(\"/kaggle/input/digits/digits_jpeg/digits_jpeg\" + '/' + str(num)) \n",
    "\n",
    "    for image in picList:\n",
    "        curImage = cv2.imread(\"/kaggle/input/digits/digits_jpeg/digits_jpeg/\" + '/' + str(num) + '/' + image) \n",
    "\n",
    "        if curImage is not None:\n",
    "            curImage = cv2.resize(curImage, (32, 32)) \n",
    "            images.append(curImage)\n",
    "            labelNum.append(num)\n",
    "        else:\n",
    "            print(f\"Failed to load image: {image}\")\n",
    "\n",
    "    print(num, end = \" \")\n",
    "\n",
    "print(\" \")\n",
    "\n",
    "images = np.array(images)\n",
    "labelNum = np.array(labelNum)"
   ]
  },
  {
   "cell_type": "markdown",
   "id": "f84bfd18",
   "metadata": {
    "papermill": {
     "duration": 0.004084,
     "end_time": "2024-08-20T05:02:59.328315",
     "exception": false,
     "start_time": "2024-08-20T05:02:59.324231",
     "status": "completed"
    },
    "tags": []
   },
   "source": [
    "# Splitting Data into Training/Testing/Validating"
   ]
  },
  {
   "cell_type": "code",
   "execution_count": 4,
   "id": "b8ef83b1",
   "metadata": {
    "execution": {
     "iopub.execute_input": "2024-08-20T05:02:59.337873Z",
     "iopub.status.busy": "2024-08-20T05:02:59.337568Z",
     "iopub.status.idle": "2024-08-20T05:02:59.369307Z",
     "shell.execute_reply": "2024-08-20T05:02:59.368075Z"
    },
    "papermill": {
     "duration": 0.039028,
     "end_time": "2024-08-20T05:02:59.371411",
     "exception": false,
     "start_time": "2024-08-20T05:02:59.332383",
     "status": "completed"
    },
    "tags": []
   },
   "outputs": [
    {
     "name": "stdout",
     "output_type": "stream",
     "text": [
      "Original Set of Data: (10160, 32, 32, 3) \n",
      "\n",
      "[0 0 0 ... 9 9 9]\n",
      "Data to Train: (6502, 32, 32, 3)\n",
      "Data to Test: (2032, 32, 32, 3)\n",
      "Data to Validate: (1626, 32, 32, 3)\n",
      "(6502,)\n",
      "(1626,)\n",
      "(2032,)\n",
      "How many [0] labels?: 653\n",
      "How many [1] labels?: 635\n",
      "How many [2] labels?: 667\n",
      "How many [3] labels?: 669\n",
      "How many [4] labels?: 662\n",
      "How many [5] labels?: 643\n",
      "How many [6] labels?: 651\n",
      "How many [7] labels?: 649\n",
      "How many [8] labels?: 624\n",
      "How many [9] labels?: 649\n"
     ]
    }
   ],
   "source": [
    "print(f\"Original Set of Data: {images.shape} \\n\")\n",
    "\n",
    "\n",
    "X_train, X_test, y_train, y_test = train_test_split(images, labelNum, test_size=0.2) # Train 80%, Test 20%, function ensures data is randomized\n",
    "X_train, X_validation, y_train, y_validation = train_test_split(X_train, y_train, test_size=0.2) # Train 64%, Test 20%, Validation 16%\n",
    "print(labelNum)\n",
    "print(f\"Data to Train: {X_train.shape}\")\n",
    "print(f\"Data to Test: {X_test.shape}\")\n",
    "print(f\"Data to Validate: {X_validation.shape}\")\n",
    "\n",
    "print(y_train.shape)\n",
    "print(y_validation.shape)\n",
    "print(y_test.shape)\n",
    "# np.where(y_train==x) outputs an np array, first element is an array with all numbers with respective label\n",
    "numOfImages = []\n",
    "for x in range(10):\n",
    "    numOfImages.append(len(np.where(y_train==x)[0]))\n",
    "    print(f\"How many [{x}] labels?: {len(np.where(y_train==x)[0])}\") "
   ]
  },
  {
   "cell_type": "markdown",
   "id": "d0783db1",
   "metadata": {
    "papermill": {
     "duration": 0.004294,
     "end_time": "2024-08-20T05:02:59.380126",
     "exception": false,
     "start_time": "2024-08-20T05:02:59.375832",
     "status": "completed"
    },
    "tags": []
   },
   "source": [
    "# Image Preprocessing"
   ]
  },
  {
   "cell_type": "code",
   "execution_count": 5,
   "id": "54903f7a",
   "metadata": {
    "execution": {
     "iopub.execute_input": "2024-08-20T05:02:59.390103Z",
     "iopub.status.busy": "2024-08-20T05:02:59.389790Z",
     "iopub.status.idle": "2024-08-20T05:02:59.606879Z",
     "shell.execute_reply": "2024-08-20T05:02:59.606023Z"
    },
    "papermill": {
     "duration": 0.224674,
     "end_time": "2024-08-20T05:02:59.609135",
     "exception": false,
     "start_time": "2024-08-20T05:02:59.384461",
     "status": "completed"
    },
    "tags": []
   },
   "outputs": [],
   "source": [
    "def Preprocessing(image):\n",
    "    image = cv2.cvtColor(image,cv2.COLOR_BGR2GRAY)\n",
    "    image = cv2.equalizeHist(image) \n",
    "    image = image/255\n",
    "    return image\n",
    "    \n",
    "\n",
    "# map each value into function -> into a list -> into an np array \n",
    "X_train = np.array(list(map(Preprocessing, X_train)))\n",
    "X_test = np.array(list(map(Preprocessing, X_test)))\n",
    "X_validation = np.array(list(map(Preprocessing, X_validation)))\n",
    "\n",
    "# Add a depth of 1 for the CNN, tells that only 1 color channel per image. If RGB, put 3\n",
    "\n",
    "X_train = X_train.reshape(X_train.shape[0], X_train.shape[1], X_train.shape[2], 1)\n",
    "X_test = X_test.reshape(X_test.shape[0], X_test.shape[1], X_test.shape[2], 1)\n",
    "X_validation = X_validation.reshape(X_validation.shape[0], X_validation.shape[1], X_validation.shape[2], 1)\n",
    "\n",
    "AugmentedData = ImageDataGenerator(width_shift_range=0.1, # %\n",
    "                             height_shift_range=0.1, # %\n",
    "                             zoom_range=0.2, # %\n",
    "                             shear_range=0.1, # %\n",
    "                             rotation_range=10) # °\n",
    "AugmentedData.fit(X_train) # Generating augmented images as batches that get sent back to X_train while training"
   ]
  },
  {
   "cell_type": "markdown",
   "id": "0a7024fd",
   "metadata": {
    "papermill": {
     "duration": 0.004249,
     "end_time": "2024-08-20T05:02:59.617994",
     "exception": false,
     "start_time": "2024-08-20T05:02:59.613745",
     "status": "completed"
    },
    "tags": []
   },
   "source": [
    "# CNN"
   ]
  },
  {
   "cell_type": "code",
   "execution_count": 6,
   "id": "0bf8525b",
   "metadata": {
    "execution": {
     "iopub.execute_input": "2024-08-20T05:02:59.627830Z",
     "iopub.status.busy": "2024-08-20T05:02:59.627481Z",
     "iopub.status.idle": "2024-08-20T05:15:21.472718Z",
     "shell.execute_reply": "2024-08-20T05:15:21.471711Z"
    },
    "papermill": {
     "duration": 741.852794,
     "end_time": "2024-08-20T05:15:21.474977",
     "exception": false,
     "start_time": "2024-08-20T05:02:59.622183",
     "status": "completed"
    },
    "tags": []
   },
   "outputs": [
    {
     "name": "stderr",
     "output_type": "stream",
     "text": [
      "2024-08-20 05:02:59.685125: E external/local_xla/xla/stream_executor/cuda/cuda_driver.cc:274] failed call to cuInit: CUDA_ERROR_NO_DEVICE: no CUDA-capable device is detected\n"
     ]
    },
    {
     "data": {
      "text/html": [
       "<pre style=\"white-space:pre;overflow-x:auto;line-height:normal;font-family:Menlo,'DejaVu Sans Mono',consolas,'Courier New',monospace\"><span style=\"font-weight: bold\">Model: \"sequential\"</span>\n",
       "</pre>\n"
      ],
      "text/plain": [
       "\u001b[1mModel: \"sequential\"\u001b[0m\n"
      ]
     },
     "metadata": {},
     "output_type": "display_data"
    },
    {
     "data": {
      "text/html": [
       "<pre style=\"white-space:pre;overflow-x:auto;line-height:normal;font-family:Menlo,'DejaVu Sans Mono',consolas,'Courier New',monospace\">┏━━━━━━━━━━━━━━━━━━━━━━━━━━━━━━━━━┳━━━━━━━━━━━━━━━━━━━━━━━━┳━━━━━━━━━━━━━━━┓\n",
       "┃<span style=\"font-weight: bold\"> Layer (type)                    </span>┃<span style=\"font-weight: bold\"> Output Shape           </span>┃<span style=\"font-weight: bold\">       Param # </span>┃\n",
       "┡━━━━━━━━━━━━━━━━━━━━━━━━━━━━━━━━━╇━━━━━━━━━━━━━━━━━━━━━━━━╇━━━━━━━━━━━━━━━┩\n",
       "│ conv2d (<span style=\"color: #0087ff; text-decoration-color: #0087ff\">Conv2D</span>)                 │ (<span style=\"color: #00d7ff; text-decoration-color: #00d7ff\">None</span>, <span style=\"color: #00af00; text-decoration-color: #00af00\">28</span>, <span style=\"color: #00af00; text-decoration-color: #00af00\">28</span>, <span style=\"color: #00af00; text-decoration-color: #00af00\">60</span>)     │         <span style=\"color: #00af00; text-decoration-color: #00af00\">1,560</span> │\n",
       "├─────────────────────────────────┼────────────────────────┼───────────────┤\n",
       "│ conv2d_1 (<span style=\"color: #0087ff; text-decoration-color: #0087ff\">Conv2D</span>)               │ (<span style=\"color: #00d7ff; text-decoration-color: #00d7ff\">None</span>, <span style=\"color: #00af00; text-decoration-color: #00af00\">24</span>, <span style=\"color: #00af00; text-decoration-color: #00af00\">24</span>, <span style=\"color: #00af00; text-decoration-color: #00af00\">60</span>)     │        <span style=\"color: #00af00; text-decoration-color: #00af00\">90,060</span> │\n",
       "├─────────────────────────────────┼────────────────────────┼───────────────┤\n",
       "│ max_pooling2d (<span style=\"color: #0087ff; text-decoration-color: #0087ff\">MaxPooling2D</span>)    │ (<span style=\"color: #00d7ff; text-decoration-color: #00d7ff\">None</span>, <span style=\"color: #00af00; text-decoration-color: #00af00\">12</span>, <span style=\"color: #00af00; text-decoration-color: #00af00\">12</span>, <span style=\"color: #00af00; text-decoration-color: #00af00\">60</span>)     │             <span style=\"color: #00af00; text-decoration-color: #00af00\">0</span> │\n",
       "├─────────────────────────────────┼────────────────────────┼───────────────┤\n",
       "│ conv2d_2 (<span style=\"color: #0087ff; text-decoration-color: #0087ff\">Conv2D</span>)               │ (<span style=\"color: #00d7ff; text-decoration-color: #00d7ff\">None</span>, <span style=\"color: #00af00; text-decoration-color: #00af00\">10</span>, <span style=\"color: #00af00; text-decoration-color: #00af00\">10</span>, <span style=\"color: #00af00; text-decoration-color: #00af00\">30</span>)     │        <span style=\"color: #00af00; text-decoration-color: #00af00\">16,230</span> │\n",
       "├─────────────────────────────────┼────────────────────────┼───────────────┤\n",
       "│ conv2d_3 (<span style=\"color: #0087ff; text-decoration-color: #0087ff\">Conv2D</span>)               │ (<span style=\"color: #00d7ff; text-decoration-color: #00d7ff\">None</span>, <span style=\"color: #00af00; text-decoration-color: #00af00\">8</span>, <span style=\"color: #00af00; text-decoration-color: #00af00\">8</span>, <span style=\"color: #00af00; text-decoration-color: #00af00\">30</span>)       │         <span style=\"color: #00af00; text-decoration-color: #00af00\">8,130</span> │\n",
       "├─────────────────────────────────┼────────────────────────┼───────────────┤\n",
       "│ max_pooling2d_1 (<span style=\"color: #0087ff; text-decoration-color: #0087ff\">MaxPooling2D</span>)  │ (<span style=\"color: #00d7ff; text-decoration-color: #00d7ff\">None</span>, <span style=\"color: #00af00; text-decoration-color: #00af00\">4</span>, <span style=\"color: #00af00; text-decoration-color: #00af00\">4</span>, <span style=\"color: #00af00; text-decoration-color: #00af00\">30</span>)       │             <span style=\"color: #00af00; text-decoration-color: #00af00\">0</span> │\n",
       "├─────────────────────────────────┼────────────────────────┼───────────────┤\n",
       "│ dropout (<span style=\"color: #0087ff; text-decoration-color: #0087ff\">Dropout</span>)               │ (<span style=\"color: #00d7ff; text-decoration-color: #00d7ff\">None</span>, <span style=\"color: #00af00; text-decoration-color: #00af00\">4</span>, <span style=\"color: #00af00; text-decoration-color: #00af00\">4</span>, <span style=\"color: #00af00; text-decoration-color: #00af00\">30</span>)       │             <span style=\"color: #00af00; text-decoration-color: #00af00\">0</span> │\n",
       "├─────────────────────────────────┼────────────────────────┼───────────────┤\n",
       "│ flatten (<span style=\"color: #0087ff; text-decoration-color: #0087ff\">Flatten</span>)               │ (<span style=\"color: #00d7ff; text-decoration-color: #00d7ff\">None</span>, <span style=\"color: #00af00; text-decoration-color: #00af00\">480</span>)            │             <span style=\"color: #00af00; text-decoration-color: #00af00\">0</span> │\n",
       "├─────────────────────────────────┼────────────────────────┼───────────────┤\n",
       "│ dense (<span style=\"color: #0087ff; text-decoration-color: #0087ff\">Dense</span>)                   │ (<span style=\"color: #00d7ff; text-decoration-color: #00d7ff\">None</span>, <span style=\"color: #00af00; text-decoration-color: #00af00\">500</span>)            │       <span style=\"color: #00af00; text-decoration-color: #00af00\">240,500</span> │\n",
       "├─────────────────────────────────┼────────────────────────┼───────────────┤\n",
       "│ dropout_1 (<span style=\"color: #0087ff; text-decoration-color: #0087ff\">Dropout</span>)             │ (<span style=\"color: #00d7ff; text-decoration-color: #00d7ff\">None</span>, <span style=\"color: #00af00; text-decoration-color: #00af00\">500</span>)            │             <span style=\"color: #00af00; text-decoration-color: #00af00\">0</span> │\n",
       "├─────────────────────────────────┼────────────────────────┼───────────────┤\n",
       "│ dense_1 (<span style=\"color: #0087ff; text-decoration-color: #0087ff\">Dense</span>)                 │ (<span style=\"color: #00d7ff; text-decoration-color: #00d7ff\">None</span>, <span style=\"color: #00af00; text-decoration-color: #00af00\">10</span>)             │         <span style=\"color: #00af00; text-decoration-color: #00af00\">5,010</span> │\n",
       "└─────────────────────────────────┴────────────────────────┴───────────────┘\n",
       "</pre>\n"
      ],
      "text/plain": [
       "┏━━━━━━━━━━━━━━━━━━━━━━━━━━━━━━━━━┳━━━━━━━━━━━━━━━━━━━━━━━━┳━━━━━━━━━━━━━━━┓\n",
       "┃\u001b[1m \u001b[0m\u001b[1mLayer (type)                   \u001b[0m\u001b[1m \u001b[0m┃\u001b[1m \u001b[0m\u001b[1mOutput Shape          \u001b[0m\u001b[1m \u001b[0m┃\u001b[1m \u001b[0m\u001b[1m      Param #\u001b[0m\u001b[1m \u001b[0m┃\n",
       "┡━━━━━━━━━━━━━━━━━━━━━━━━━━━━━━━━━╇━━━━━━━━━━━━━━━━━━━━━━━━╇━━━━━━━━━━━━━━━┩\n",
       "│ conv2d (\u001b[38;5;33mConv2D\u001b[0m)                 │ (\u001b[38;5;45mNone\u001b[0m, \u001b[38;5;34m28\u001b[0m, \u001b[38;5;34m28\u001b[0m, \u001b[38;5;34m60\u001b[0m)     │         \u001b[38;5;34m1,560\u001b[0m │\n",
       "├─────────────────────────────────┼────────────────────────┼───────────────┤\n",
       "│ conv2d_1 (\u001b[38;5;33mConv2D\u001b[0m)               │ (\u001b[38;5;45mNone\u001b[0m, \u001b[38;5;34m24\u001b[0m, \u001b[38;5;34m24\u001b[0m, \u001b[38;5;34m60\u001b[0m)     │        \u001b[38;5;34m90,060\u001b[0m │\n",
       "├─────────────────────────────────┼────────────────────────┼───────────────┤\n",
       "│ max_pooling2d (\u001b[38;5;33mMaxPooling2D\u001b[0m)    │ (\u001b[38;5;45mNone\u001b[0m, \u001b[38;5;34m12\u001b[0m, \u001b[38;5;34m12\u001b[0m, \u001b[38;5;34m60\u001b[0m)     │             \u001b[38;5;34m0\u001b[0m │\n",
       "├─────────────────────────────────┼────────────────────────┼───────────────┤\n",
       "│ conv2d_2 (\u001b[38;5;33mConv2D\u001b[0m)               │ (\u001b[38;5;45mNone\u001b[0m, \u001b[38;5;34m10\u001b[0m, \u001b[38;5;34m10\u001b[0m, \u001b[38;5;34m30\u001b[0m)     │        \u001b[38;5;34m16,230\u001b[0m │\n",
       "├─────────────────────────────────┼────────────────────────┼───────────────┤\n",
       "│ conv2d_3 (\u001b[38;5;33mConv2D\u001b[0m)               │ (\u001b[38;5;45mNone\u001b[0m, \u001b[38;5;34m8\u001b[0m, \u001b[38;5;34m8\u001b[0m, \u001b[38;5;34m30\u001b[0m)       │         \u001b[38;5;34m8,130\u001b[0m │\n",
       "├─────────────────────────────────┼────────────────────────┼───────────────┤\n",
       "│ max_pooling2d_1 (\u001b[38;5;33mMaxPooling2D\u001b[0m)  │ (\u001b[38;5;45mNone\u001b[0m, \u001b[38;5;34m4\u001b[0m, \u001b[38;5;34m4\u001b[0m, \u001b[38;5;34m30\u001b[0m)       │             \u001b[38;5;34m0\u001b[0m │\n",
       "├─────────────────────────────────┼────────────────────────┼───────────────┤\n",
       "│ dropout (\u001b[38;5;33mDropout\u001b[0m)               │ (\u001b[38;5;45mNone\u001b[0m, \u001b[38;5;34m4\u001b[0m, \u001b[38;5;34m4\u001b[0m, \u001b[38;5;34m30\u001b[0m)       │             \u001b[38;5;34m0\u001b[0m │\n",
       "├─────────────────────────────────┼────────────────────────┼───────────────┤\n",
       "│ flatten (\u001b[38;5;33mFlatten\u001b[0m)               │ (\u001b[38;5;45mNone\u001b[0m, \u001b[38;5;34m480\u001b[0m)            │             \u001b[38;5;34m0\u001b[0m │\n",
       "├─────────────────────────────────┼────────────────────────┼───────────────┤\n",
       "│ dense (\u001b[38;5;33mDense\u001b[0m)                   │ (\u001b[38;5;45mNone\u001b[0m, \u001b[38;5;34m500\u001b[0m)            │       \u001b[38;5;34m240,500\u001b[0m │\n",
       "├─────────────────────────────────┼────────────────────────┼───────────────┤\n",
       "│ dropout_1 (\u001b[38;5;33mDropout\u001b[0m)             │ (\u001b[38;5;45mNone\u001b[0m, \u001b[38;5;34m500\u001b[0m)            │             \u001b[38;5;34m0\u001b[0m │\n",
       "├─────────────────────────────────┼────────────────────────┼───────────────┤\n",
       "│ dense_1 (\u001b[38;5;33mDense\u001b[0m)                 │ (\u001b[38;5;45mNone\u001b[0m, \u001b[38;5;34m10\u001b[0m)             │         \u001b[38;5;34m5,010\u001b[0m │\n",
       "└─────────────────────────────────┴────────────────────────┴───────────────┘\n"
      ]
     },
     "metadata": {},
     "output_type": "display_data"
    },
    {
     "data": {
      "text/html": [
       "<pre style=\"white-space:pre;overflow-x:auto;line-height:normal;font-family:Menlo,'DejaVu Sans Mono',consolas,'Courier New',monospace\"><span style=\"font-weight: bold\"> Total params: </span><span style=\"color: #00af00; text-decoration-color: #00af00\">361,490</span> (1.38 MB)\n",
       "</pre>\n"
      ],
      "text/plain": [
       "\u001b[1m Total params: \u001b[0m\u001b[38;5;34m361,490\u001b[0m (1.38 MB)\n"
      ]
     },
     "metadata": {},
     "output_type": "display_data"
    },
    {
     "data": {
      "text/html": [
       "<pre style=\"white-space:pre;overflow-x:auto;line-height:normal;font-family:Menlo,'DejaVu Sans Mono',consolas,'Courier New',monospace\"><span style=\"font-weight: bold\"> Trainable params: </span><span style=\"color: #00af00; text-decoration-color: #00af00\">361,490</span> (1.38 MB)\n",
       "</pre>\n"
      ],
      "text/plain": [
       "\u001b[1m Trainable params: \u001b[0m\u001b[38;5;34m361,490\u001b[0m (1.38 MB)\n"
      ]
     },
     "metadata": {},
     "output_type": "display_data"
    },
    {
     "data": {
      "text/html": [
       "<pre style=\"white-space:pre;overflow-x:auto;line-height:normal;font-family:Menlo,'DejaVu Sans Mono',consolas,'Courier New',monospace\"><span style=\"font-weight: bold\"> Non-trainable params: </span><span style=\"color: #00af00; text-decoration-color: #00af00\">0</span> (0.00 B)\n",
       "</pre>\n"
      ],
      "text/plain": [
       "\u001b[1m Non-trainable params: \u001b[0m\u001b[38;5;34m0\u001b[0m (0.00 B)\n"
      ]
     },
     "metadata": {},
     "output_type": "display_data"
    },
    {
     "name": "stdout",
     "output_type": "stream",
     "text": [
      "None\n",
      "Epoch 1/50\n",
      "\u001b[1m130/130\u001b[0m \u001b[32m━━━━━━━━━━━━━━━━━━━━\u001b[0m\u001b[37m\u001b[0m \u001b[1m25s\u001b[0m 174ms/step - accuracy: 0.3087 - loss: 1.8763 - val_accuracy: 0.9483 - val_loss: 0.2007\n",
      "Epoch 2/50\n",
      "\u001b[1m130/130\u001b[0m \u001b[32m━━━━━━━━━━━━━━━━━━━━\u001b[0m\u001b[37m\u001b[0m \u001b[1m1s\u001b[0m 10ms/step - accuracy: 0.6800 - loss: 0.7576 - val_accuracy: 0.9490 - val_loss: 0.2004\n",
      "Epoch 3/50\n",
      "\u001b[1m130/130\u001b[0m \u001b[32m━━━━━━━━━━━━━━━━━━━━\u001b[0m\u001b[37m\u001b[0m \u001b[1m22s\u001b[0m 169ms/step - accuracy: 0.7998 - loss: 0.6194 - val_accuracy: 0.9680 - val_loss: 0.1026\n",
      "Epoch 4/50\n",
      "\u001b[1m130/130\u001b[0m \u001b[32m━━━━━━━━━━━━━━━━━━━━\u001b[0m\u001b[37m\u001b[0m \u001b[1m1s\u001b[0m 9ms/step - accuracy: 0.7600 - loss: 0.6779 - val_accuracy: 0.9680 - val_loss: 0.1037\n",
      "Epoch 5/50\n",
      "\u001b[1m130/130\u001b[0m \u001b[32m━━━━━━━━━━━━━━━━━━━━\u001b[0m\u001b[37m\u001b[0m \u001b[1m22s\u001b[0m 167ms/step - accuracy: 0.8826 - loss: 0.3743 - val_accuracy: 0.9779 - val_loss: 0.0750\n",
      "Epoch 6/50\n",
      "\u001b[1m130/130\u001b[0m \u001b[32m━━━━━━━━━━━━━━━━━━━━\u001b[0m\u001b[37m\u001b[0m \u001b[1m1s\u001b[0m 9ms/step - accuracy: 0.9600 - loss: 0.1482 - val_accuracy: 0.9754 - val_loss: 0.0815\n",
      "Epoch 7/50\n",
      "\u001b[1m130/130\u001b[0m \u001b[32m━━━━━━━━━━━━━━━━━━━━\u001b[0m\u001b[37m\u001b[0m \u001b[1m40s\u001b[0m 169ms/step - accuracy: 0.9062 - loss: 0.2923 - val_accuracy: 0.9723 - val_loss: 0.0862\n",
      "Epoch 8/50\n",
      "\u001b[1m130/130\u001b[0m \u001b[32m━━━━━━━━━━━━━━━━━━━━\u001b[0m\u001b[37m\u001b[0m \u001b[1m1s\u001b[0m 9ms/step - accuracy: 0.9200 - loss: 0.2930 - val_accuracy: 0.9785 - val_loss: 0.0596\n",
      "Epoch 9/50\n",
      "\u001b[1m130/130\u001b[0m \u001b[32m━━━━━━━━━━━━━━━━━━━━\u001b[0m\u001b[37m\u001b[0m \u001b[1m39s\u001b[0m 165ms/step - accuracy: 0.9165 - loss: 0.2417 - val_accuracy: 0.9883 - val_loss: 0.0434\n",
      "Epoch 10/50\n",
      "\u001b[1m130/130\u001b[0m \u001b[32m━━━━━━━━━━━━━━━━━━━━\u001b[0m\u001b[37m\u001b[0m \u001b[1m1s\u001b[0m 9ms/step - accuracy: 0.9600 - loss: 0.1785 - val_accuracy: 0.9889 - val_loss: 0.0413\n",
      "Epoch 11/50\n",
      "\u001b[1m130/130\u001b[0m \u001b[32m━━━━━━━━━━━━━━━━━━━━\u001b[0m\u001b[37m\u001b[0m \u001b[1m22s\u001b[0m 167ms/step - accuracy: 0.9377 - loss: 0.1919 - val_accuracy: 0.9828 - val_loss: 0.0502\n",
      "Epoch 12/50\n",
      "\u001b[1m130/130\u001b[0m \u001b[32m━━━━━━━━━━━━━━━━━━━━\u001b[0m\u001b[37m\u001b[0m \u001b[1m1s\u001b[0m 9ms/step - accuracy: 0.9800 - loss: 0.1002 - val_accuracy: 0.9852 - val_loss: 0.0472\n",
      "Epoch 13/50\n",
      "\u001b[1m130/130\u001b[0m \u001b[32m━━━━━━━━━━━━━━━━━━━━\u001b[0m\u001b[37m\u001b[0m \u001b[1m21s\u001b[0m 164ms/step - accuracy: 0.9434 - loss: 0.1667 - val_accuracy: 0.9883 - val_loss: 0.0311\n",
      "Epoch 14/50\n",
      "\u001b[1m130/130\u001b[0m \u001b[32m━━━━━━━━━━━━━━━━━━━━\u001b[0m\u001b[37m\u001b[0m \u001b[1m1s\u001b[0m 9ms/step - accuracy: 0.9400 - loss: 0.1461 - val_accuracy: 0.9877 - val_loss: 0.0354\n",
      "Epoch 15/50\n",
      "\u001b[1m130/130\u001b[0m \u001b[32m━━━━━━━━━━━━━━━━━━━━\u001b[0m\u001b[37m\u001b[0m \u001b[1m22s\u001b[0m 165ms/step - accuracy: 0.9410 - loss: 0.1742 - val_accuracy: 0.9834 - val_loss: 0.0493\n",
      "Epoch 16/50\n",
      "\u001b[1m130/130\u001b[0m \u001b[32m━━━━━━━━━━━━━━━━━━━━\u001b[0m\u001b[37m\u001b[0m \u001b[1m1s\u001b[0m 9ms/step - accuracy: 0.8600 - loss: 0.3028 - val_accuracy: 0.9828 - val_loss: 0.0521\n",
      "Epoch 17/50\n",
      "\u001b[1m130/130\u001b[0m \u001b[32m━━━━━━━━━━━━━━━━━━━━\u001b[0m\u001b[37m\u001b[0m \u001b[1m22s\u001b[0m 165ms/step - accuracy: 0.9478 - loss: 0.1610 - val_accuracy: 0.9914 - val_loss: 0.0261\n",
      "Epoch 18/50\n",
      "\u001b[1m130/130\u001b[0m \u001b[32m━━━━━━━━━━━━━━━━━━━━\u001b[0m\u001b[37m\u001b[0m \u001b[1m1s\u001b[0m 9ms/step - accuracy: 0.9400 - loss: 0.2515 - val_accuracy: 0.9920 - val_loss: 0.0253\n",
      "Epoch 19/50\n",
      "\u001b[1m130/130\u001b[0m \u001b[32m━━━━━━━━━━━━━━━━━━━━\u001b[0m\u001b[37m\u001b[0m \u001b[1m21s\u001b[0m 163ms/step - accuracy: 0.9579 - loss: 0.1319 - val_accuracy: 0.9914 - val_loss: 0.0260\n",
      "Epoch 20/50\n",
      "\u001b[1m130/130\u001b[0m \u001b[32m━━━━━━━━━━━━━━━━━━━━\u001b[0m\u001b[37m\u001b[0m \u001b[1m1s\u001b[0m 10ms/step - accuracy: 0.9600 - loss: 0.1789 - val_accuracy: 0.9920 - val_loss: 0.0265\n",
      "Epoch 21/50\n",
      "\u001b[1m130/130\u001b[0m \u001b[32m━━━━━━━━━━━━━━━━━━━━\u001b[0m\u001b[37m\u001b[0m \u001b[1m40s\u001b[0m 167ms/step - accuracy: 0.9640 - loss: 0.1129 - val_accuracy: 0.9945 - val_loss: 0.0219\n",
      "Epoch 22/50\n",
      "\u001b[1m130/130\u001b[0m \u001b[32m━━━━━━━━━━━━━━━━━━━━\u001b[0m\u001b[37m\u001b[0m \u001b[1m1s\u001b[0m 9ms/step - accuracy: 0.9800 - loss: 0.0880 - val_accuracy: 0.9932 - val_loss: 0.0210\n",
      "Epoch 23/50\n",
      "\u001b[1m130/130\u001b[0m \u001b[32m━━━━━━━━━━━━━━━━━━━━\u001b[0m\u001b[37m\u001b[0m \u001b[1m21s\u001b[0m 163ms/step - accuracy: 0.9654 - loss: 0.1194 - val_accuracy: 0.9914 - val_loss: 0.0231\n",
      "Epoch 24/50\n",
      "\u001b[1m130/130\u001b[0m \u001b[32m━━━━━━━━━━━━━━━━━━━━\u001b[0m\u001b[37m\u001b[0m \u001b[1m2s\u001b[0m 12ms/step - accuracy: 0.9600 - loss: 0.0583 - val_accuracy: 0.9920 - val_loss: 0.0226\n",
      "Epoch 25/50\n",
      "\u001b[1m130/130\u001b[0m \u001b[32m━━━━━━━━━━━━━━━━━━━━\u001b[0m\u001b[37m\u001b[0m \u001b[1m40s\u001b[0m 167ms/step - accuracy: 0.9607 - loss: 0.1209 - val_accuracy: 0.9951 - val_loss: 0.0186\n",
      "Epoch 26/50\n",
      "\u001b[1m130/130\u001b[0m \u001b[32m━━━━━━━━━━━━━━━━━━━━\u001b[0m\u001b[37m\u001b[0m \u001b[1m1s\u001b[0m 9ms/step - accuracy: 1.0000 - loss: 0.0335 - val_accuracy: 0.9957 - val_loss: 0.0186\n",
      "Epoch 27/50\n",
      "\u001b[1m130/130\u001b[0m \u001b[32m━━━━━━━━━━━━━━━━━━━━\u001b[0m\u001b[37m\u001b[0m \u001b[1m39s\u001b[0m 165ms/step - accuracy: 0.9702 - loss: 0.0875 - val_accuracy: 0.9963 - val_loss: 0.0137\n",
      "Epoch 28/50\n",
      "\u001b[1m130/130\u001b[0m \u001b[32m━━━━━━━━━━━━━━━━━━━━\u001b[0m\u001b[37m\u001b[0m \u001b[1m1s\u001b[0m 9ms/step - accuracy: 0.9400 - loss: 0.2574 - val_accuracy: 0.9963 - val_loss: 0.0146\n",
      "Epoch 29/50\n",
      "\u001b[1m130/130\u001b[0m \u001b[32m━━━━━━━━━━━━━━━━━━━━\u001b[0m\u001b[37m\u001b[0m \u001b[1m39s\u001b[0m 162ms/step - accuracy: 0.9705 - loss: 0.0880 - val_accuracy: 0.9969 - val_loss: 0.0126\n",
      "Epoch 30/50\n",
      "\u001b[1m130/130\u001b[0m \u001b[32m━━━━━━━━━━━━━━━━━━━━\u001b[0m\u001b[37m\u001b[0m \u001b[1m1s\u001b[0m 9ms/step - accuracy: 0.9400 - loss: 0.1913 - val_accuracy: 0.9975 - val_loss: 0.0141\n",
      "Epoch 31/50\n",
      "\u001b[1m130/130\u001b[0m \u001b[32m━━━━━━━━━━━━━━━━━━━━\u001b[0m\u001b[37m\u001b[0m \u001b[1m21s\u001b[0m 164ms/step - accuracy: 0.9638 - loss: 0.1063 - val_accuracy: 0.9963 - val_loss: 0.0125\n",
      "Epoch 32/50\n",
      "\u001b[1m130/130\u001b[0m \u001b[32m━━━━━━━━━━━━━━━━━━━━\u001b[0m\u001b[37m\u001b[0m \u001b[1m1s\u001b[0m 9ms/step - accuracy: 1.0000 - loss: 0.0177 - val_accuracy: 0.9963 - val_loss: 0.0127\n",
      "Epoch 33/50\n",
      "\u001b[1m130/130\u001b[0m \u001b[32m━━━━━━━━━━━━━━━━━━━━\u001b[0m\u001b[37m\u001b[0m \u001b[1m39s\u001b[0m 163ms/step - accuracy: 0.9719 - loss: 0.0821 - val_accuracy: 0.9945 - val_loss: 0.0189\n",
      "Epoch 34/50\n",
      "\u001b[1m130/130\u001b[0m \u001b[32m━━━━━━━━━━━━━━━━━━━━\u001b[0m\u001b[37m\u001b[0m \u001b[1m1s\u001b[0m 9ms/step - accuracy: 0.9800 - loss: 0.0486 - val_accuracy: 0.9945 - val_loss: 0.0173\n",
      "Epoch 35/50\n",
      "\u001b[1m130/130\u001b[0m \u001b[32m━━━━━━━━━━━━━━━━━━━━\u001b[0m\u001b[37m\u001b[0m \u001b[1m40s\u001b[0m 167ms/step - accuracy: 0.9687 - loss: 0.0926 - val_accuracy: 0.9957 - val_loss: 0.0117\n",
      "Epoch 36/50\n",
      "\u001b[1m130/130\u001b[0m \u001b[32m━━━━━━━━━━━━━━━━━━━━\u001b[0m\u001b[37m\u001b[0m \u001b[1m1s\u001b[0m 9ms/step - accuracy: 1.0000 - loss: 0.0149 - val_accuracy: 0.9957 - val_loss: 0.0116\n",
      "Epoch 37/50\n",
      "\u001b[1m130/130\u001b[0m \u001b[32m━━━━━━━━━━━━━━━━━━━━\u001b[0m\u001b[37m\u001b[0m \u001b[1m21s\u001b[0m 163ms/step - accuracy: 0.9700 - loss: 0.0912 - val_accuracy: 0.9951 - val_loss: 0.0168\n",
      "Epoch 38/50\n",
      "\u001b[1m130/130\u001b[0m \u001b[32m━━━━━━━━━━━━━━━━━━━━\u001b[0m\u001b[37m\u001b[0m \u001b[1m1s\u001b[0m 9ms/step - accuracy: 0.9400 - loss: 0.0576 - val_accuracy: 0.9957 - val_loss: 0.0171\n",
      "Epoch 39/50\n",
      "\u001b[1m130/130\u001b[0m \u001b[32m━━━━━━━━━━━━━━━━━━━━\u001b[0m\u001b[37m\u001b[0m \u001b[1m22s\u001b[0m 168ms/step - accuracy: 0.9746 - loss: 0.0768 - val_accuracy: 0.9969 - val_loss: 0.0129\n",
      "Epoch 40/50\n",
      "\u001b[1m130/130\u001b[0m \u001b[32m━━━━━━━━━━━━━━━━━━━━\u001b[0m\u001b[37m\u001b[0m \u001b[1m1s\u001b[0m 9ms/step - accuracy: 1.0000 - loss: 0.0161 - val_accuracy: 0.9969 - val_loss: 0.0124\n",
      "Epoch 41/50\n",
      "\u001b[1m130/130\u001b[0m \u001b[32m━━━━━━━━━━━━━━━━━━━━\u001b[0m\u001b[37m\u001b[0m \u001b[1m39s\u001b[0m 162ms/step - accuracy: 0.9795 - loss: 0.0626 - val_accuracy: 0.9963 - val_loss: 0.0203\n",
      "Epoch 42/50\n",
      "\u001b[1m130/130\u001b[0m \u001b[32m━━━━━━━━━━━━━━━━━━━━\u001b[0m\u001b[37m\u001b[0m \u001b[1m1s\u001b[0m 9ms/step - accuracy: 1.0000 - loss: 0.0188 - val_accuracy: 0.9963 - val_loss: 0.0197\n",
      "Epoch 43/50\n",
      "\u001b[1m130/130\u001b[0m \u001b[32m━━━━━━━━━━━━━━━━━━━━\u001b[0m\u001b[37m\u001b[0m \u001b[1m22s\u001b[0m 166ms/step - accuracy: 0.9729 - loss: 0.0898 - val_accuracy: 0.9859 - val_loss: 0.0405\n",
      "Epoch 44/50\n",
      "\u001b[1m130/130\u001b[0m \u001b[32m━━━━━━━━━━━━━━━━━━━━\u001b[0m\u001b[37m\u001b[0m \u001b[1m1s\u001b[0m 9ms/step - accuracy: 0.9800 - loss: 0.0312 - val_accuracy: 0.9840 - val_loss: 0.0359\n",
      "Epoch 45/50\n",
      "\u001b[1m130/130\u001b[0m \u001b[32m━━━━━━━━━━━━━━━━━━━━\u001b[0m\u001b[37m\u001b[0m \u001b[1m22s\u001b[0m 168ms/step - accuracy: 0.9673 - loss: 0.1065 - val_accuracy: 0.9969 - val_loss: 0.0144\n",
      "Epoch 46/50\n",
      "\u001b[1m130/130\u001b[0m \u001b[32m━━━━━━━━━━━━━━━━━━━━\u001b[0m\u001b[37m\u001b[0m \u001b[1m1s\u001b[0m 10ms/step - accuracy: 0.9800 - loss: 0.0661 - val_accuracy: 0.9957 - val_loss: 0.0141\n",
      "Epoch 47/50\n",
      "\u001b[1m130/130\u001b[0m \u001b[32m━━━━━━━━━━━━━━━━━━━━\u001b[0m\u001b[37m\u001b[0m \u001b[1m21s\u001b[0m 164ms/step - accuracy: 0.9742 - loss: 0.0774 - val_accuracy: 0.9957 - val_loss: 0.0111\n",
      "Epoch 48/50\n",
      "\u001b[1m130/130\u001b[0m \u001b[32m━━━━━━━━━━━━━━━━━━━━\u001b[0m\u001b[37m\u001b[0m \u001b[1m2s\u001b[0m 12ms/step - accuracy: 1.0000 - loss: 0.0074 - val_accuracy: 0.9963 - val_loss: 0.0106\n",
      "Epoch 49/50\n",
      "\u001b[1m130/130\u001b[0m \u001b[32m━━━━━━━━━━━━━━━━━━━━\u001b[0m\u001b[37m\u001b[0m \u001b[1m22s\u001b[0m 169ms/step - accuracy: 0.9775 - loss: 0.0674 - val_accuracy: 0.9982 - val_loss: 0.0078\n",
      "Epoch 50/50\n",
      "\u001b[1m130/130\u001b[0m \u001b[32m━━━━━━━━━━━━━━━━━━━━\u001b[0m\u001b[37m\u001b[0m \u001b[1m1s\u001b[0m 9ms/step - accuracy: 0.9600 - loss: 0.1111 - val_accuracy: 0.9969 - val_loss: 0.0080\n",
      "\u001b[1m64/64\u001b[0m \u001b[32m━━━━━━━━━━━━━━━━━━━━\u001b[0m\u001b[37m\u001b[0m \u001b[1m2s\u001b[0m 24ms/step - accuracy: 0.9945 - loss: 0.0127\n",
      "Test accuracy: 0.9951\n",
      "Test loss: 0.0116\n"
     ]
    }
   ],
   "source": [
    "y_train = to_categorical(y_train, 10)\n",
    "y_test = to_categorical(y_test, 10)\n",
    "y_validation = to_categorical(y_validation, 10)\n",
    "\n",
    "def CNN_Model():\n",
    "    numOfFilters = 60\n",
    "    filterSize1 = (5,5)\n",
    "    filterSize2 = (3,3)\n",
    "    poolSize = (2,2)\n",
    "    numOfNode = 500\n",
    "\n",
    "    model = Sequential() # Keras Sequential model\n",
    "\n",
    "    model.add((Conv2D(numOfFilters, filterSize1, input_shape=(32, 32, 1), activation='relu'))) # 28x28x60\n",
    "    model.add((Conv2D(numOfFilters, filterSize1, activation='relu'))) # 24x24x60\n",
    "    model.add(MaxPooling2D(pool_size=poolSize)) # 12x12x60\n",
    "    model.add((Conv2D(numOfFilters//2, filterSize2, activation='relu'))) # 21x21x30\n",
    "    model.add((Conv2D(numOfFilters//2, filterSize2, activation='relu'))) # 18x18x30\n",
    "    model.add(MaxPooling2D(pool_size=poolSize)) # 9x9x30\n",
    "    model.add(Dropout(0.5)) # half the neurons are inactive, only used in training\n",
    "    model.add(Flatten()) # 9x9x30 = 2430\n",
    "    model.add(Dense(numOfNode, activation='relu')) \n",
    "    model.add(Dropout(0.5))\n",
    "    model.add(Dense(10, activation='softmax')) # 10 nodes for 10 classes\n",
    "    model.compile(Adam(learning_rate=0.001), loss='categorical_crossentropy', metrics=['accuracy'])\n",
    "    return model\n",
    "\n",
    "model = CNN_Model()\n",
    "print(model.summary())\n",
    "\n",
    "history = model.fit(AugmentedData.flow(X_train, y_train,\n",
    "                                 batch_size = 50), # number of training samples used in one iteration\n",
    "                                 steps_per_epoch = len(X_train)//50, # total number of training samples / batch size\n",
    "                                 epochs = 50, # one full cycle through training dataset\n",
    "                                 validation_data = (X_validation, y_validation),\n",
    "                                 shuffle = 1)\n",
    "\n",
    "test_loss, test_accuracy = model.evaluate(X_test, y_test)\n",
    "print(f'Test accuracy: {test_accuracy:.4f}')\n",
    "print(f'Test loss: {test_loss:.4f}')\n"
   ]
  }
 ],
 "metadata": {
  "kaggle": {
   "accelerator": "nvidiaTeslaT4",
   "dataSources": [
    {
     "datasetId": 1218664,
     "sourceId": 8007995,
     "sourceType": "datasetVersion"
    }
   ],
   "dockerImageVersionId": 30747,
   "isGpuEnabled": true,
   "isInternetEnabled": true,
   "language": "python",
   "sourceType": "notebook"
  },
  "kernelspec": {
   "display_name": "Python 3",
   "language": "python",
   "name": "python3"
  },
  "language_info": {
   "codemirror_mode": {
    "name": "ipython",
    "version": 3
   },
   "file_extension": ".py",
   "mimetype": "text/x-python",
   "name": "python",
   "nbconvert_exporter": "python",
   "pygments_lexer": "ipython3",
   "version": "3.10.13"
  },
  "papermill": {
   "default_parameters": {},
   "duration": 793.586179,
   "end_time": "2024-08-20T05:15:24.249037",
   "environment_variables": {},
   "exception": null,
   "input_path": "__notebook__.ipynb",
   "output_path": "__notebook__.ipynb",
   "parameters": {},
   "start_time": "2024-08-20T05:02:10.662858",
   "version": "2.5.0"
  }
 },
 "nbformat": 4,
 "nbformat_minor": 5
}
